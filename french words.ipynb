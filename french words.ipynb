{
 "cells": [
  {
   "cell_type": "code",
   "execution_count": 1,
   "metadata": {
    "collapsed": true
   },
   "outputs": [],
   "source": [
    "from bs4 import BeautifulSoup\n",
    "import requests\n",
    "import urllib.request\n",
    "from IPython.display import *\n",
    "from ipywidgets import widgets\n"
   ]
  },
  {
   "cell_type": "code",
   "execution_count": null,
   "metadata": {
    "collapsed": true
   },
   "outputs": [],
   "source": []
  },
  {
   "cell_type": "code",
   "execution_count": 2,
   "metadata": {},
   "outputs": [
    {
     "data": {
      "application/vnd.jupyter.widget-view+json": {
       "model_id": "51ddac034b174c6ab9dc739d6da38c96",
       "version_major": 2,
       "version_minor": 0
      },
      "text/plain": [
       "A Jupyter Widget"
      ]
     },
     "metadata": {},
     "output_type": "display_data"
    },
    {
     "name": "stdout",
     "output_type": "stream",
     "text": [
      "kernel ->  [of nut] amande f\n",
      "amande amɑ̃d \n",
      " feminine noun\n",
      "\n"
     ]
    },
    {
     "data": {
      "text/html": [
       "\n",
       "                <audio controls=\"controls\" >\n",
       "                    <source src=\"https://www.collinsdictionary.com/sounds/f/fr_/fr_w0/fr_w0002480.mp3\" type=\"audio/mpeg\" />\n",
       "                    Your browser does not support the audio element.\n",
       "                </audio>\n",
       "              "
      ],
      "text/plain": [
       "<IPython.lib.display.Audio object>"
      ]
     },
     "metadata": {},
     "output_type": "display_data"
    },
    {
     "name": "stdout",
     "output_type": "stream",
     "text": [
      "kernel -> (= central point) (figurative) noyau m\n",
      "\n",
      "noyau nwajo \n",
      " masculine noun\n",
      "\n"
     ]
    },
    {
     "data": {
      "text/html": [
       "\n",
       "                <audio controls=\"controls\" >\n",
       "                    <source src=\"https://www.collinsdictionary.com/sounds/f/fr_/fr_no/fr_noyau.mp3\" type=\"audio/mpeg\" />\n",
       "                    Your browser does not support the audio element.\n",
       "                </audio>\n",
       "              "
      ],
      "text/plain": [
       "<IPython.lib.display.Audio object>"
      ]
     },
     "metadata": {},
     "output_type": "display_data"
    }
   ],
   "source": [
    "text = widgets.Text()\n",
    "display(text)\n",
    "def find_meanings(sender):\n",
    "    headers = {'User-Agent':'Mozilla/5.0 (Windows NT 10.0; Win64; x64) AppleWebKit/537.36 (KHTML, like Gecko) Chrome/61.0.3163.100 Safari/537.36'\n",
    "    }\n",
    "    english = text.value\n",
    "    eng_url = 'https://www.collinsdictionary.com/dictionary/english-french/' + english\n",
    "    r = requests.get(eng_url, headers={'User-Agent': 'Mozilla/5.0 (Macintosh; Intel Mac OS X 10_12_1) AppleWebKit/537.36 (KHTML, like Gecko) Chrome/55.0.2883.75 Safari/537.36'})\n",
    "    eng_soup = BeautifulSoup(r.content, 'html.parser')\n",
    "    \n",
    "    colloc = eng_soup.findAll('li', class_='sense_list_item level_1')\n",
    "    french_trans = eng_soup.findAll('span', class_='cit cit-type-translation')\n",
    "    for i in range(0, len(colloc)):\n",
    "        print(english + ' -> ' + colloc[i].text)\n",
    "        word =  french_trans[i].q.text.split(' ', 1)[0]\n",
    "        french_url = 'https://www.collinsdictionary.com/dictionary/french-english/' +word\n",
    "        r = requests.get(french_url, headers={'User-Agent': 'Mozilla/5.0 (Macintosh; Intel Mac OS X 10_12_1) AppleWebKit/537.36 (KHTML, like Gecko) Chrome/55.0.2883.75 Safari/537.36'})\n",
    "\n",
    "\n",
    "        soup = BeautifulSoup(r.content, 'html.parser')\n",
    "        music= soup.findAll('a', class_=\"hwd_sound sound audio_play_button icon-volume-up ptr\")\n",
    "        val=music[0]['data-src-mp3']\n",
    "        transcription = soup.findAll('span', class_='pron')\n",
    "        grammar = soup.findAll('h3', class_='gramGrp h3_entry')\n",
    "        print(word + ' ' + transcription[0].text[transcription[0].text.find(\"(\")+1:transcription[0].text.find(\"\\n\")])\n",
    "        print(grammar[0].text)\n",
    "        display(Audio(url=val)) \n",
    "text.on_submit(find_meanings)"
   ]
  },
  {
   "cell_type": "code",
   "execution_count": null,
   "metadata": {
    "collapsed": true
   },
   "outputs": [],
   "source": []
  }
 ],
 "metadata": {
  "kernelspec": {
   "display_name": "Python 3",
   "language": "python",
   "name": "python3"
  },
  "language_info": {
   "codemirror_mode": {
    "name": "ipython",
    "version": 3
   },
   "file_extension": ".py",
   "mimetype": "text/x-python",
   "name": "python",
   "nbconvert_exporter": "python",
   "pygments_lexer": "ipython3",
   "version": "3.6.2"
  }
 },
 "nbformat": 4,
 "nbformat_minor": 2
}
