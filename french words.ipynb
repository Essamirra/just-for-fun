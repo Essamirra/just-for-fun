{
 "cells": [
  {
   "cell_type": "code",
   "execution_count": 1,
   "metadata": {
    "collapsed": true
   },
   "outputs": [],
   "source": [
    "from bs4 import BeautifulSoup\n",
    "import requests\n",
    "import urllib.request\n",
    "from IPython.display import *\n",
    "from ipywidgets import widgets\n"
   ]
  },
  {
   "cell_type": "code",
   "execution_count": 22,
   "metadata": {},
   "outputs": [
    {
     "data": {
      "application/vnd.jupyter.widget-view+json": {
       "model_id": "9fb4c2f741ba4427a632dde1f7dbb46a",
       "version_major": 2,
       "version_minor": 0
      },
      "text/plain": [
       "A Jupyter Widget"
      ]
     },
     "metadata": {},
     "output_type": "display_data"
    },
    {
     "name": "stdout",
     "output_type": "stream",
     "text": [
      "cold -> [place, substance]\n",
      "froid fʀwa, fʀwad \n",
      " adjective\n",
      "\n"
     ]
    },
    {
     "data": {
      "text/html": [
       "\n",
       "                <audio controls=\"controls\" >\n",
       "                    <source src=\"https://www.collinsdictionary.com/sounds/f/fr_/fr_w0/fr_w0017320.mp3\" type=\"audio/mpeg\" />\n",
       "                    Your browser does not support the audio element.\n",
       "                </audio>\n",
       "              "
      ],
      "text/plain": [
       "<IPython.lib.display.Audio object>"
      ]
     },
     "metadata": {},
     "output_type": "display_data"
    },
    {
     "name": "stdout",
     "output_type": "stream",
     "text": [
      "dress -> [wound]\n",
      "robe ʀɔb \n",
      " feminine noun\n",
      "\n"
     ]
    },
    {
     "data": {
      "text/html": [
       "\n",
       "                <audio controls=\"controls\" >\n",
       "                    <source src=\"https://www.collinsdictionary.com/sounds/f/fr_/fr_w0/fr_w0026600.mp3\" type=\"audio/mpeg\" />\n",
       "                    Your browser does not support the audio element.\n",
       "                </audio>\n",
       "              "
      ],
      "text/plain": [
       "<IPython.lib.display.Audio object>"
      ]
     },
     "metadata": {},
     "output_type": "display_data"
    },
    {
     "name": "stdout",
     "output_type": "stream",
     "text": [
      "box -> [person]\n",
      "boîte bwat \n",
      " feminine noun\n",
      "\n"
     ]
    },
    {
     "data": {
      "text/html": [
       "\n",
       "                <audio controls=\"controls\" >\n",
       "                    <source src=\"https://www.collinsdictionary.com/sounds/f/fr_/fr_w0/fr_w0025150.mp3\" type=\"audio/mpeg\" />\n",
       "                    Your browser does not support the audio element.\n",
       "                </audio>\n",
       "              "
      ],
      "text/plain": [
       "<IPython.lib.display.Audio object>"
      ]
     },
     "metadata": {},
     "output_type": "display_data"
    },
    {
     "name": "stdout",
     "output_type": "stream",
     "text": [
      "color -> [of thing]\n",
      "couleur kulœʀ \n",
      " feminine noun\n",
      "\n"
     ]
    },
    {
     "data": {
      "text/html": [
       "\n",
       "                <audio controls=\"controls\" >\n",
       "                    <source src=\"https://www.collinsdictionary.com/sounds/f/fr_/fr_w0/fr_w0017560.mp3\" type=\"audio/mpeg\" />\n",
       "                    Your browser does not support the audio element.\n",
       "                </audio>\n",
       "              "
      ],
      "text/plain": [
       "<IPython.lib.display.Audio object>"
      ]
     },
     "metadata": {},
     "output_type": "display_data"
    },
    {
     "name": "stdout",
     "output_type": "stream",
     "text": [
      "bedroom -> [key, number, rate]\n",
      "chambre ʃɑ̃bʀ \n",
      " feminine noun\n",
      "\n"
     ]
    },
    {
     "data": {
      "text/html": [
       "\n",
       "                <audio controls=\"controls\" >\n",
       "                    <source src=\"https://www.collinsdictionary.com/sounds/f/fr_/fr_w0/fr_w0007600.mp3\" type=\"audio/mpeg\" />\n",
       "                    Your browser does not support the audio element.\n",
       "                </audio>\n",
       "              "
      ],
      "text/plain": [
       "<IPython.lib.display.Audio object>"
      ]
     },
     "metadata": {},
     "output_type": "display_data"
    },
    {
     "name": "stdout",
     "output_type": "stream",
     "text": [
      "eye -> [action, movement]\n",
      "œil œj, jø \n",
      " masculine noun\n",
      "\n"
     ]
    },
    {
     "data": {
      "text/html": [
       "\n",
       "                <audio controls=\"controls\" >\n",
       "                    <source src=\"https://www.collinsdictionary.com/sounds/f/fr_/fr_w0/fr_w0030870.mp3\" type=\"audio/mpeg\" />\n",
       "                    Your browser does not support the audio element.\n",
       "                </audio>\n",
       "              "
      ],
      "text/plain": [
       "<IPython.lib.display.Audio object>"
      ]
     },
     "metadata": {},
     "output_type": "display_data"
    }
   ],
   "source": [
    "text = widgets.Text()\n",
    "display(text)\n",
    "def find_meanings(sender):\n",
    "    headers = {'User-Agent':'Mozilla/5.0 (Windows NT 10.0; Win64; x64) AppleWebKit/537.36 (KHTML, like Gecko) Chrome/61.0.3163.100 Safari/537.36'\n",
    "    }\n",
    "    english = text.value\n",
    "    eng_url = 'https://www.collinsdictionary.com/dictionary/english-french/' + english\n",
    "    r = requests.get(eng_url, headers={'User-Agent': 'Mozilla/5.0 (Macintosh; Intel Mac OS X 10_12_1) AppleWebKit/537.36 (KHTML, like Gecko) Chrome/55.0.2883.75 Safari/537.36'})\n",
    "    eng_soup = BeautifulSoup(r.content, 'html.parser')\n",
    "    \n",
    "    colloc = eng_soup.findAll('span', class_='colloc')\n",
    "    french_trans = eng_soup.findAll('span', class_='cit cit-type-translation')[0]\n",
    "    word = french_trans.q.text.split(' ', 1)[0]\n",
    "    french_url = 'https://www.collinsdictionary.com/dictionary/french-english/' +word\n",
    "    r = requests.get(french_url, headers={'User-Agent': 'Mozilla/5.0 (Macintosh; Intel Mac OS X 10_12_1) AppleWebKit/537.36 (KHTML, like Gecko) Chrome/55.0.2883.75 Safari/537.36'})\n",
    "\n",
    "\n",
    "    soup = BeautifulSoup(r.content, 'html.parser')\n",
    "    music= soup.findAll('a', class_=\"hwd_sound sound audio_play_button icon-volume-up ptr\")\n",
    "    val=music[0]['data-src-mp3']\n",
    "    transcription = soup.findAll('span', class_='pron')\n",
    "    grammar = soup.findAll('h3', class_='gramGrp h3_entry')\n",
    "    if(len(colloc) > 0):\n",
    "        collocations = colloc[0].text\n",
    "    else:\n",
    "        collocations = \"\"\n",
    "    print(english + ' -> ' + collocations)\n",
    "    \n",
    "    print(word + ' ' + transcription[0].text[transcription[0].text.find(\"(\")+1:transcription[0].text.find(\"\\n\")])\n",
    "    print(grammar[0].text)\n",
    "    display(Audio(url=val))\n",
    "text.on_submit(find_meanings)"
   ]
  }
 ],
 "metadata": {
  "kernelspec": {
   "display_name": "Python 3",
   "language": "python",
   "name": "python3"
  },
  "language_info": {
   "codemirror_mode": {
    "name": "ipython",
    "version": 3
   },
   "file_extension": ".py",
   "mimetype": "text/x-python",
   "name": "python",
   "nbconvert_exporter": "python",
   "pygments_lexer": "ipython3",
   "version": "3.6.2"
  }
 },
 "nbformat": 4,
 "nbformat_minor": 2
}
