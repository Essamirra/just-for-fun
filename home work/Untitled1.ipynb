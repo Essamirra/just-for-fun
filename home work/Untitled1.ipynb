{
 "cells": [
  {
   "cell_type": "markdown",
   "metadata": {},
   "source": [
    "# Задание 14\n",
    "14. Дана обучающая выборка\n",
    "\n",
    "x1  0 0 1 1 0 0 1 1 1 0\n",
    "\n",
    "x2  0 1 0 1 1 1 1 1 1 1\n",
    "\n",
    "y0  0 0 0 0 0 1 1 1 1 1\n",
    "\n",
    "С помощью наивного байесова классификатора оценить вероятности Pr(Y = 0|X 1 =\n",
    "1, X 2 = 1); Pr(Y = 1|X 1 = 1, X 2 = 1).\n"
   ]
  },
  {
   "cell_type": "code",
   "execution_count": 3,
   "metadata": {
    "collapsed": true
   },
   "outputs": [],
   "source": [
    "x1 = [0, 0, 1, 1, 0, 0, 1, 1, 1, 0]\n",
    "x2 = [0, 1, 0, 1, 1, 1, 1, 1, 1, 1]\n",
    "y =  [0, 0, 0, 0, 0, 1, 1, 1, 1, 1]\n"
   ]
  },
  {
   "cell_type": "code",
   "execution_count": 5,
   "metadata": {
    "collapsed": true
   },
   "outputs": [],
   "source": [
    "import numpy as np\n",
    "import matplotlib.pyplot as plt\n",
    "import pandas as pd\n",
    "%matplotlib inline"
   ]
  },
  {
   "cell_type": "markdown",
   "metadata": {},
   "source": [
    "**Pr {Y = 0|X 1 = 1,X 2 = 1}** =\n",
    "Pr {X 1 = 1|Y = 0}Pr {X 2 = 1|Y = 0}Pr {Y = 0} / \n",
    "Pr {X 1 = 1, X 2 = 1}"
   ]
  },
  {
   "cell_type": "markdown",
   "metadata": {},
   "source": [
    "**Pr {Y = 1|X 1 = 1,X 2 = 1}** =\n",
    "Pr {X 1 = 1|Y = 1}Pr {X 2 = 1|Y = 1}Pr {Y = 1} / \n",
    "Pr {X 1 = 1, X 2 = 1}"
   ]
  },
  {
   "cell_type": "markdown",
   "metadata": {},
   "source": [
    "Pr {X 1 = 1|Y = 0}Pr {X 2 = 1|Y = 0}Pr {Y = 0} = ?\n",
    "\n",
    "Pr {X 1 = 1|Y = 0} - считаем, сколько всего в выборке значений Y=0. потом среди них выбираем сколько было с X1 = 1. Получим 2/5\n",
    "\n",
    "Pr {X 2 = 1|Y = 0} - считаем, сколько было с X2 = 1. получим 3/5\n",
    "\n",
    "Pr {Y = 0} = 1/2\n",
    "\n",
    "**Pr {X 1 = 1|Y = 0}Pr {X 2 = 1|Y = 0}Pr {Y = 0}** = 2/5 \\* 3/5 \\* 1/2 = 3/25\n"
   ]
  },
  {
   "cell_type": "markdown",
   "metadata": {},
   "source": [
    "Pr {X 1 = 1|Y = 1}Pr {X 2 = 1|Y = 1}Pr {Y = 1} = ?\n",
    "\n",
    "Pr {X 1 = 1|Y = 1} = 3/5\n",
    "\n",
    "Pr {X 2 = 1|Y = 1} = 1\n",
    "\n",
    "Pr {Y = 1} = 1/2\n",
    "\n",
    "** Pr {X 1 = 1|Y = 1}Pr {X 2 = 1|Y = 1}Pr {Y = 1} ** = 3/5 * 1/2 = 3/10"
   ]
  },
  {
   "cell_type": "markdown",
   "metadata": {},
   "source": [
    "Pr {X 1 = 1, X 2 = 1} = сумме Pr {X 1 = 1|Y = 0}Pr {X 2 = 1|Y = 0}Pr {Y = 0}  + Pr {X 1 = 1|Y = 1}Pr {X 2 = 1|Y = 1}Pr {Y = 1}\n",
    "\n",
    "Pr {X 1 = 1, X 2 = 1} = 3/10 + 3/25 = 15/50 + 6/50 = 21/50\n",
    "\n"
   ]
  },
  {
   "cell_type": "markdown",
   "metadata": {},
   "source": [
    "Pr {Y = 0|X 1 = 1,X 2 = 1} = 3/25 \\* 50/21 = 3 \\* 2/21 = 2/7\n",
    "\n",
    "Pr {Y = 1|X 1 = 1,X 2 = 1} = 3/10 \\* 50/21 = 5/7"
   ]
  }
 ],
 "metadata": {
  "kernelspec": {
   "display_name": "Python 3",
   "language": "python",
   "name": "python3"
  },
  "language_info": {
   "codemirror_mode": {
    "name": "ipython",
    "version": 3
   },
   "file_extension": ".py",
   "mimetype": "text/x-python",
   "name": "python",
   "nbconvert_exporter": "python",
   "pygments_lexer": "ipython3",
   "version": "3.6.2"
  }
 },
 "nbformat": 4,
 "nbformat_minor": 2
}
