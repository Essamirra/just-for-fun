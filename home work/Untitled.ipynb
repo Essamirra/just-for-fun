{
 "cells": [
  {
   "cell_type": "markdown",
   "metadata": {},
   "source": [
    "ДЗ по машинному обучению\n"
   ]
  },
  {
   "cell_type": "markdown",
   "metadata": {},
   "source": [
    "Задание 1\n",
    "Задачи\n",
    "1. Дана обучающая выборка\n",
    "x 1 1 0 0 −1\n",
    "y 4 4 0 2 6\n",
    "\n",
    "1) изобразить точки;\n",
    "\n",
    "2) методом наименьших квадратов построить модель вида f(x) = β 0 + β 1 x + β 2 x 2 ;\n",
    "\n",
    "построить график этой функции;\n",
    "\n",
    "3) построить модель того же вида методом ридж-регрессии с параметром регуляриза-\n",
    "ции λ = 1; построить график этой функции.\n",
    "\n",
    "Замечание: при ручных вычислениях по методу наименьших квадратов рекомен-\n",
    "дуется составить систему X ⊤ Xβ = X ⊤ y и решить ее. Регуляризованная система:\n",
    "(X ⊤ X + λI)β = X ⊤ y, где I — единичная матрица."
   ]
  },
  {
   "cell_type": "code",
   "execution_count": 1,
   "metadata": {
    "collapsed": true
   },
   "outputs": [],
   "source": [
    "import numpy as np\n",
    "import matplotlib.pyplot as plt\n",
    "import pandas as pd\n",
    "%matplotlib inline"
   ]
  },
  {
   "cell_type": "code",
   "execution_count": 2,
   "metadata": {
    "collapsed": true
   },
   "outputs": [],
   "source": [
    "x = [1, 1, 0, 0, -1]\n",
    "Y = [4, 4, 0, 2, 6]"
   ]
  },
  {
   "cell_type": "code",
   "execution_count": 3,
   "metadata": {},
   "outputs": [
    {
     "data": {
      "text/plain": [
       "<matplotlib.text.Text at 0x11d2e8cc588>"
      ]
     },
     "execution_count": 3,
     "metadata": {},
     "output_type": "execute_result"
    },
    {
     "data": {
      "image/png": "[encoded data removed]",
      "text/plain": [
       "<matplotlib.figure.Figure at 0x11d2e89b278>"
      ]
     },
     "metadata": {},
     "output_type": "display_data"
    }
   ],
   "source": [
    "plt.figure(figsize = (10, 6))\n",
    "\n",
    "plt.scatter(x,\n",
    "            Y,\n",
    "            alpha = 1,\n",
    "            label = 'Points Plot',\n",
    "            color = 'r')\n",
    "plt.xticks(range(3))\n",
    "plt.xlim(-2, 2)\n",
    "plt.xlabel('x')\n",
    "plt.ylabel('y')"
   ]
  },
  {
   "cell_type": "code",
   "execution_count": 4,
   "metadata": {
    "collapsed": true
   },
   "outputs": [],
   "source": [
    "X = [[1, 1, 1], [1,1,1], [1, 0, 0], [1,0,0], [1,-1,1]]\n"
   ]
  },
  {
   "cell_type": "markdown",
   "metadata": {},
   "source": [
    "В матрице Х - первый столбец из 1, второй - вектор х, третий - квадраты элементов вектора х"
   ]
  },
  {
   "cell_type": "code",
   "execution_count": 5,
   "metadata": {},
   "outputs": [],
   "source": [
    "Xt = np.transpose(X)"
   ]
  },
  {
   "cell_type": "code",
   "execution_count": 6,
   "metadata": {},
   "outputs": [
    {
     "data": {
      "text/plain": [
       "array([[ 1,  1,  1,  1,  1],\n",
       "       [ 1,  1,  0,  0, -1],\n",
       "       [ 1,  1,  0,  0,  1]])"
      ]
     },
     "execution_count": 6,
     "metadata": {},
     "output_type": "execute_result"
    }
   ],
   "source": [
    "Xt"
   ]
  },
  {
   "cell_type": "markdown",
   "metadata": {},
   "source": [
    "Строим систему нормальных уравнений X ⊤ Xβ = X ⊤ y"
   ]
  },
  {
   "cell_type": "code",
   "execution_count": 7,
   "metadata": {},
   "outputs": [
    {
     "data": {
      "text/plain": [
       "array([[5, 1, 3],\n",
       "       [1, 3, 1],\n",
       "       [3, 1, 3]])"
      ]
     },
     "execution_count": 7,
     "metadata": {},
     "output_type": "execute_result"
    }
   ],
   "source": [
    "XtX = np.dot(Xt, X)\n",
    "XtX"
   ]
  },
  {
   "cell_type": "code",
   "execution_count": 8,
   "metadata": {},
   "outputs": [
    {
     "data": {
      "text/plain": [
       "array([16,  2, 14])"
      ]
     },
     "execution_count": 8,
     "metadata": {},
     "output_type": "execute_result"
    }
   ],
   "source": [
    "y = np.transpose(Y)\n",
    "Xty = np.dot(Xt, y)\n",
    "Xty"
   ]
  },
  {
   "cell_type": "code",
   "execution_count": 16,
   "metadata": {},
   "outputs": [
    {
     "data": {
      "text/plain": [
       "array([ 1., -1.,  4.])"
      ]
     },
     "execution_count": 16,
     "metadata": {},
     "output_type": "execute_result"
    }
   ],
   "source": [
    "beta =np.linalg.solve(XtX, Xty)\n",
    "beta"
   ]
  },
  {
   "cell_type": "code",
   "execution_count": 18,
   "metadata": {},
   "outputs": [
    {
     "data": {
      "text/plain": [
       "<matplotlib.text.Text at 0x11d2ecc0438>"
      ]
     },
     "execution_count": 18,
     "metadata": {},
     "output_type": "execute_result"
    },
    {
     "data": {
      "image/png": "[encoded data removed]",
      "text/plain": [
       "<matplotlib.figure.Figure at 0x11d2ed3a8d0>"
      ]
     },
     "metadata": {},
     "output_type": "display_data"
    }
   ],
   "source": [
    "xvals = np.arange(-2, 2, 0.01)\n",
    "yvals = 1 -1*xvals+4*xvals*xvals\n",
    "#аппроксимация - 1 -x+4x^2\n",
    "plt.figure(figsize = (10, 6))\n",
    "\n",
    "plt.scatter(x,\n",
    "            Y,\n",
    "            alpha = 1,\n",
    "            label = 'Start set',\n",
    "            color = 'r')\n",
    "\n",
    "plt.scatter(xvals,\n",
    "            yvals,\n",
    "            alpha = 0.05,\n",
    "            label = 'Least squares',\n",
    "            color = 'b')\n",
    "plt.xticks(range(3))\n",
    "plt.xlim(-2, 2)\n",
    "plt.xlabel('x')\n",
    "plt.ylabel('y')"
   ]
  },
  {
   "cell_type": "code",
   "execution_count": null,
   "metadata": {
    "collapsed": true
   },
   "outputs": [],
   "source": []
  },
  {
   "cell_type": "markdown",
   "metadata": {},
   "source": [
    "Ридж регрессия\n",
    "(X ⊤ X + λI)β = X ⊤ y, лямбда = 1"
   ]
  },
  {
   "cell_type": "code",
   "execution_count": 11,
   "metadata": {},
   "outputs": [
    {
     "data": {
      "text/plain": [
       "array([[ 1.,  1.,  1.],\n",
       "       [ 1.,  1.,  1.],\n",
       "       [ 1.,  1.,  1.]])"
      ]
     },
     "execution_count": 11,
     "metadata": {},
     "output_type": "execute_result"
    }
   ],
   "source": [
    "lam = 1\n",
    "lambdaI = np.ones([3,3]) * lam\n",
    "lambdaI"
   ]
  },
  {
   "cell_type": "code",
   "execution_count": 12,
   "metadata": {},
   "outputs": [
    {
     "data": {
      "text/plain": [
       "array([[ 6.,  2.,  4.],\n",
       "       [ 2.,  4.,  2.],\n",
       "       [ 4.,  2.,  4.]])"
      ]
     },
     "execution_count": 12,
     "metadata": {},
     "output_type": "execute_result"
    }
   ],
   "source": [
    "XtX_labmdaI = XtX + lambdaI\n",
    "XtX+lambdaI"
   ]
  },
  {
   "cell_type": "code",
   "execution_count": 19,
   "metadata": {},
   "outputs": [
    {
     "data": {
      "text/plain": [
       "array([ 1.        , -1.66666667,  3.33333333])"
      ]
     },
     "execution_count": 19,
     "metadata": {},
     "output_type": "execute_result"
    }
   ],
   "source": [
    "beta_ridge = np.linalg.solve(XtX_labmdaI, Xty)\n",
    "beta_ridge\n"
   ]
  },
  {
   "cell_type": "code",
   "execution_count": 20,
   "metadata": {
    "scrolled": true
   },
   "outputs": [
    {
     "data": {
      "text/plain": [
       "<matplotlib.text.Text at 0x11d2eea96a0>"
      ]
     },
     "execution_count": 20,
     "metadata": {},
     "output_type": "execute_result"
    },
    {
     "data": {
      "image/png": "[encoded data removed]",
      "text/plain": [
       "<matplotlib.figure.Figure at 0x11d2ec02160>"
      ]
     },
     "metadata": {},
     "output_type": "display_data"
    }
   ],
   "source": [
    "xvals = np.arange(-2, 2, 0.01)\n",
    "yvals = 1 -1*xvals+4*xvals*xvals\n",
    "xvals_ridge = np.arange(-2, 2, 0.01)\n",
    "yvals_ridge =1 -1.66666667*xvals+3.33333333*xvals*xvals\n",
    "plt.figure(figsize = (10, 6))\n",
    "\n",
    "plt.scatter(x,\n",
    "            Y,\n",
    "            alpha = 1,\n",
    "            label = 'Start set',\n",
    "            color = 'r')\n",
    "\n",
    "plt.scatter(xvals,\n",
    "            yvals,\n",
    "            alpha = 0.05,\n",
    "            label = 'Least squares',\n",
    "            color = 'b')\n",
    "plt.scatter(xvals_ridge,\n",
    "            yvals_ridge,\n",
    "            alpha = 0.05,\n",
    "            label = 'Ridge regression',\n",
    "            color = 'g')\n",
    "plt.xticks(range(3))\n",
    "plt.xlim(-2, 2)\n",
    "plt.xlabel('x')\n",
    "plt.ylabel('y')"
   ]
  },
  {
   "cell_type": "markdown",
   "metadata": {},
   "source": []
  }
 ],
 "metadata": {
  "kernelspec": {
   "display_name": "Python 3",
   "language": "python",
   "name": "python3"
  },
  "language_info": {
   "codemirror_mode": {
    "name": "ipython",
    "version": 3
   },
   "file_extension": ".py",
   "mimetype": "text/x-python",
   "name": "python",
   "nbconvert_exporter": "python",
   "pygments_lexer": "ipython3",
   "version": "3.6.2"
  }
 },
 "nbformat": 4,
 "nbformat_minor": 2
}
